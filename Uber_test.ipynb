{
 "cells": [
  {
   "cell_type": "code",
   "execution_count": 1,
   "metadata": {},
   "outputs": [],
   "source": [
    "from bs4 import BeautifulSoup\n",
    "from selenium import webdriver\n",
    "from selenium.webdriver.chrome.options import Options\n",
    "from selenium.webdriver.common.action_chains import ActionChains\n",
    "from datetime import datetime\n",
    "import requests\n",
    "import json\n",
    "import time\n",
    "import urllib.request\n",
    "import numpy\n",
    "from tkinter import messagebox "
   ]
  },
  {
   "cell_type": "code",
   "execution_count": 2,
   "metadata": {},
   "outputs": [
    {
     "name": "stdout",
     "output_type": "stream",
     "text": [
      "台灣大學, 台灣台北市大安區羅斯福路四段\n",
      "中正紀念堂, 台灣台北市中正區中山南路\n"
     ]
    }
   ],
   "source": [
    "line_id = 'yucheng0720@yahoo.com.tw'\n",
    "line_password = 'cat7139aa'\n",
    "num_of_sample = 0\n",
    "\n",
    "with open('test_data/test_sample_start_loc/test_coordinate_sample{}.txt'.format(num_of_sample), mode='r', encoding='big5') as f:\n",
    "    start_choice_name = f.readline()\n",
    "    print(start_choice_name)\n",
    "\n",
    "with open('test_data/test_sample_stop_loc/test_coordinate_sample{}.txt'.format(num_of_sample), mode='r', encoding='big5') as f:\n",
    "    stop_choice_name = f.readline()\n",
    "    print(stop_choice_name)"
   ]
  },
  {
   "cell_type": "code",
   "execution_count": 3,
   "metadata": {},
   "outputs": [
    {
     "name": "stderr",
     "output_type": "stream",
     "text": [
      "C:\\Users\\ycyta\\Anaconda3\\lib\\site-packages\\ipykernel_launcher.py:10: DeprecationWarning: use options instead of chrome_options\n",
      "  # Remove the CWD from sys.path while we load stuff.\n"
     ]
    },
    {
     "name": "stdout",
     "output_type": "stream",
     "text": [
      "Fail to enter estimate_page\n",
      "Success\n"
     ]
    },
    {
     "ename": "IndexError",
     "evalue": "list index out of range",
     "output_type": "error",
     "traceback": [
      "\u001b[1;31m---------------------------------------------------------------------------\u001b[0m",
      "\u001b[1;31mIndexError\u001b[0m                                Traceback (most recent call last)",
      "\u001b[1;32m<ipython-input-3-f7b6e2a091cf>\u001b[0m in \u001b[0;36m<module>\u001b[1;34m\u001b[0m\n\u001b[0;32m    109\u001b[0m \u001b[0mtime\u001b[0m\u001b[1;33m.\u001b[0m\u001b[0msleep\u001b[0m\u001b[1;33m(\u001b[0m\u001b[1;36m1.5\u001b[0m\u001b[1;33m)\u001b[0m\u001b[1;33m\u001b[0m\u001b[1;33m\u001b[0m\u001b[0m\n\u001b[0;32m    110\u001b[0m \u001b[1;33m\u001b[0m\u001b[0m\n\u001b[1;32m--> 111\u001b[1;33m \u001b[0mLINE_TAXI_PLUS\u001b[0m \u001b[1;33m=\u001b[0m \u001b[0mchrome\u001b[0m\u001b[1;33m.\u001b[0m\u001b[0mfind_elements_by_xpath\u001b[0m\u001b[1;33m(\u001b[0m\u001b[1;34m'//div[@class=\"select-car-estimate\"]'\u001b[0m\u001b[1;33m)\u001b[0m\u001b[1;33m[\u001b[0m\u001b[1;36m0\u001b[0m\u001b[1;33m]\u001b[0m\u001b[1;33m.\u001b[0m\u001b[0mtext\u001b[0m\u001b[1;33m\u001b[0m\u001b[1;33m\u001b[0m\u001b[0m\n\u001b[0m\u001b[0;32m    112\u001b[0m \u001b[0mLINE_TAXI\u001b[0m \u001b[1;33m=\u001b[0m \u001b[0mchrome\u001b[0m\u001b[1;33m.\u001b[0m\u001b[0mfind_elements_by_xpath\u001b[0m\u001b[1;33m(\u001b[0m\u001b[1;34m'//div[@class=\"select-car-estimate\"]'\u001b[0m\u001b[1;33m)\u001b[0m\u001b[1;33m[\u001b[0m\u001b[1;36m1\u001b[0m\u001b[1;33m]\u001b[0m\u001b[1;33m.\u001b[0m\u001b[0mtext\u001b[0m\u001b[1;33m\u001b[0m\u001b[1;33m\u001b[0m\u001b[0m\n\u001b[0;32m    113\u001b[0m \u001b[1;33m\u001b[0m\u001b[0m\n",
      "\u001b[1;31mIndexError\u001b[0m: list index out of range"
     ]
    }
   ],
   "source": [
    "#line_taxi(self, start_choice_name, stop_choice_name, line_id, line_password):\n",
    "start_time = datetime.now()\n",
    "\n",
    "options = Options()\n",
    "options.add_argument(\"--disable-notifications\")\n",
    "# options.add_argument(\"--headless\")\n",
    "# options.add_argument(\"--disable-gpu\")\n",
    "# options.add_argument(\"log-level=3\")\n",
    "\n",
    "chrome = webdriver.Chrome('./chromedriver', chrome_options=options)\n",
    "chrome.get(\"https://app.taxigo.com.tw/\")\n",
    "\n",
    "time.sleep(3)\n",
    "\n",
    "Email = chrome.find_element_by_name(\"tid\")\n",
    "Password = chrome.find_element_by_name(\"tpasswd\")\n",
    "\n",
    "time.sleep(3)\n",
    "\n",
    "Email.send_keys(line_id)\n",
    "Password.send_keys(line_password)\n",
    "Password.submit()\n",
    "\n",
    "time.sleep(3)\n",
    "code_for_phone = chrome.find_element_by_class_name(\"mdMN06Number\").text\n",
    "messagebox.showinfo(\"驗證碼\", \"請到您手機上輸入:\"+str(code_for_phone))\n",
    "enter_yet = False\n",
    "\n",
    "while enter_yet != True:\n",
    "\n",
    "    time.sleep(3) \n",
    "\n",
    "    try:\n",
    "    # 登入\n",
    "        Email = chrome.find_element_by_name(\"tid\")\n",
    "        Password = chrome.find_element_by_name(\"tpasswd\")\n",
    "\n",
    "        Email.send_keys(line_id)\n",
    "        Password.send_keys(line_password)\n",
    "            \n",
    "        Password.submit()\n",
    "        enter_yet = True\n",
    "\n",
    "    except:\n",
    "        pass\n",
    "\n",
    "time.sleep(5)\n",
    "#for i in range(3):\n",
    "    # 點掉廣告\n",
    "Estimate_page = False\n",
    "\n",
    "while Estimate_page != True:\n",
    "    try:\n",
    "        try:\n",
    "            ad_button = chrome.find_elements_by_xpath('//button[@class=\"popWarning-btn h6\"]')[0]\n",
    "            ActionChains(chrome).move_to_element(ad_button).click().perform()\n",
    "        except:\n",
    "            pass\n",
    "\n",
    "        try:\n",
    "            ad_button = chrome.find_elements_by_xpath('//div[@class=\"notification-close-area\"]')[0]\n",
    "            ActionChains(chrome).move_to_element(ad_button).click().perform()\n",
    "        except:\n",
    "            pass\n",
    "\n",
    "        enter_adress_button = chrome.find_elements_by_xpath('//span[@class=\"null\"]')[0]\n",
    "        ActionChains(chrome).move_to_element(enter_adress_button).click().perform()\n",
    "\n",
    "        time.sleep(3)\n",
    "        start = chrome.find_element_by_css_selector(\"input[placeholder='上車地點']\")\n",
    "        stop = chrome.find_element_by_css_selector(\"input[placeholder='下車地點']\")\n",
    "        Estimate_page = True\n",
    "\n",
    "        print('Success')\n",
    "    except:\n",
    "        print('Fail to enter estimate_page')\n",
    "        pass\n",
    "\n",
    "start_loc = start_choice_name\n",
    "stop_loc = stop_choice_name\n",
    "\n",
    "# for w in start_loc:\n",
    "#     start.send_keys(w)\n",
    "#     time.sleep(0.5)\n",
    "start.send_keys(start_loc)\n",
    "\n",
    "# 點選最接近地點\n",
    "time.sleep(0.5)\n",
    "\n",
    "choice1 = chrome.find_elements_by_xpath('//div[@class=\"address-title-des subtitle_01\"][@data-index=\"0\"]')[0]\n",
    "ActionChains(chrome).move_to_element(choice1).click().perform()\n",
    "\n",
    "time.sleep(0.5)\n",
    "\n",
    "#time.sleep(2)\n",
    "\n",
    "# 緩慢輸入\n",
    "# for w in stop_loc:\n",
    "#     stop.send_keys(w)\n",
    "#     time.sleep(0.5)\n",
    "\n",
    "stop.send_keys(stop_loc)\n",
    "# 點選最接近地點\n",
    "time.sleep(0.5)\n",
    "\n",
    "choice1 = chrome.find_elements_by_xpath('//div[@class=\"address-title-des subtitle_01\"][@data-index=\"0\"]')[0]\n",
    "ActionChains(chrome).move_to_element(choice1).click().perform()\n",
    "\n",
    "time.sleep(1.5)\n",
    "\n",
    "LINE_TAXI_PLUS = chrome.find_elements_by_xpath('//div[@class=\"select-car-estimate\"]')[0].text\n",
    "LINE_TAXI = chrome.find_elements_by_xpath('//div[@class=\"select-car-estimate\"]')[1].text\n",
    "\n",
    "index = LINE_TAXI.find('~')\n",
    "lowest = float(LINE_TAXI[:index].replace('$',''))\n",
    "\n",
    "end_time = datetime.now()\n",
    "cost_of_time = (end_time - start_time).seconds\n",
    "print(lowest)\n",
    "print('花了', cost_of_time)\n"
   ]
  },
  {
   "cell_type": "code",
   "execution_count": 19,
   "metadata": {},
   "outputs": [],
   "source": [
    "start.send_keys(start_loc)\n",
    "\n",
    "# 點選最接近地點\n",
    "time.sleep(0.5)"
   ]
  },
  {
   "cell_type": "code",
   "execution_count": 20,
   "metadata": {},
   "outputs": [],
   "source": [
    "#choice1 = chrome.find_elements_by_xpath('//div[@class=\"address-title-des subtitle_01\"][@data-index=\"0\"]')[0]\n",
    "choice1 = chrome.find_elements_by_xpath('//div[@class=\"address-title-des subtitle_01\"][@data-index=\"0\"]')[1]\n",
    "#ActionChains(chrome).move_to_element(choice1).click().perform()"
   ]
  },
  {
   "cell_type": "code",
   "execution_count": 12,
   "metadata": {
    "collapsed": true
   },
   "outputs": [
    {
     "ename": "AttributeError",
     "evalue": "'WebElement' object has no attribute 'txt'",
     "output_type": "error",
     "traceback": [
      "\u001b[1;31m---------------------------------------------------------------------------\u001b[0m",
      "\u001b[1;31mAttributeError\u001b[0m                            Traceback (most recent call last)",
      "\u001b[1;32m<ipython-input-12-62078fb84120>\u001b[0m in \u001b[0;36m<module>\u001b[1;34m\u001b[0m\n\u001b[1;32m----> 1\u001b[1;33m \u001b[0mchoice1\u001b[0m\u001b[1;33m.\u001b[0m\u001b[0mtxt\u001b[0m\u001b[1;33m\u001b[0m\u001b[1;33m\u001b[0m\u001b[0m\n\u001b[0m",
      "\u001b[1;31mAttributeError\u001b[0m: 'WebElement' object has no attribute 'txt'"
     ]
    }
   ],
   "source": [
    "choice1.txt"
   ]
  },
  {
   "cell_type": "code",
   "execution_count": 21,
   "metadata": {},
   "outputs": [],
   "source": [
    "ActionChains(chrome).move_to_element(choice1).click().perform()"
   ]
  },
  {
   "cell_type": "code",
   "execution_count": 14,
   "metadata": {},
   "outputs": [],
   "source": [
    "for w in start_loc:\n",
    "    start.send_keys(w)\n",
    "    time.sleep(0.5)"
   ]
  }
 ],
 "metadata": {
  "kernelspec": {
   "display_name": "Python 3",
   "language": "python",
   "name": "python3"
  },
  "language_info": {
   "codemirror_mode": {
    "name": "ipython",
    "version": 3
   },
   "file_extension": ".py",
   "mimetype": "text/x-python",
   "name": "python",
   "nbconvert_exporter": "python",
   "pygments_lexer": "ipython3",
   "version": "3.7.4"
  }
 },
 "nbformat": 4,
 "nbformat_minor": 2
}
